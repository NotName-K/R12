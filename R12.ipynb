{
 "cells": [
  {
   "cell_type": "markdown",
   "metadata": {},
   "source": [
    "# Vocales y Consonantes"
   ]
  },
  {
   "cell_type": "code",
   "execution_count": 29,
   "metadata": {},
   "outputs": [
    {
     "name": "stdout",
     "output_type": "stream",
     "text": [
      "Cantidad de Vocales: 1597835\n",
      "Cantidad de Consonantes: 2612121\n"
     ]
    }
   ],
   "source": [
    "def voc(a, c):\n",
    "    k = 0\n",
    "    l: str = a\n",
    "    for i in l:\n",
    "        k += c.count(i)\n",
    "    return k\n",
    "\n",
    "if __name__ == \"__main__\":\n",
    "    with open(\"mbox.txt\", \"r\") as file:\n",
    "        c = file.read().lower()  \n",
    "    l = voc(\"aeiou\", c)\n",
    "    m = voc(\"bcdfghjklmnpqrstvwxyz\", c)\n",
    "\n",
    "    print(f\"Cantidad de Vocales: {l}\")\n",
    "    print(f\"Cantidad de Consonantes: {m}\")\n"
   ]
  },
  {
   "cell_type": "markdown",
   "metadata": {},
   "source": [
    "# 50 Palabras mas repetidas"
   ]
  },
  {
   "cell_type": "code",
   "execution_count": 31,
   "metadata": {},
   "outputs": [
    {
     "name": "stdout",
     "output_type": "stream",
     "text": [
      "edu: 29443\n",
      "2007: 20415\n",
      "from: 19923\n",
      "by: 18028\n",
      "received: 16174\n",
      "sakaiproject: 15297\n",
      "ac: 13711\n",
      "uk: 13303\n",
      "with: 12756\n",
      "id: 12607\n",
      "0: 12604\n",
      "umich: 12580\n",
      "uhi: 12579\n",
      "iupui: 12575\n",
      "uits: 12571\n",
      "-0500: 11774\n",
      "12: 10055\n",
      "dec: 9267\n",
      "nov: 8988\n",
      "nakamura: 8977\n",
      "for: 7714\n",
      "org>: 7188\n",
      "esmtp: 7188\n",
      "paploo: 7188\n",
      "14: 6718\n",
      "11: 6554\n",
      "2: 6063\n",
      "mail: 5396\n",
      "mr: 5391\n",
      "itd: 5391\n",
      "collab: 5391\n",
      "<source@collab: 5391\n",
      "text/plain: 5391\n",
      "charset=utf-8: 5391\n",
      "+0000: 4932\n",
      "(gmt): 4932\n",
      "to: 4565\n",
      "thu: 4344\n",
      "35: 4329\n",
      "3: 4285\n",
      "java: 4222\n",
      "oct: 4164\n",
      "1: 4104\n",
      "tue: 4060\n",
      "15: 3726\n",
      "you: 3621\n",
      "date: 3612\n",
      "219: 3609\n",
      "fri: 3603\n",
      "211: 3595\n"
     ]
    }
   ],
   "source": [
    "def mostwords(a, n):\n",
    "    with open(a, \"r\") as file:\n",
    "        tx = file.read().lower()\n",
    "\n",
    "    d = \" \\t\\n\\r,.!?;:\"\n",
    "    for i in d:\n",
    "        tx = tx.replace(i, \" \")\n",
    "    pb = tx.split()\n",
    "\n",
    "    cnum = {}\n",
    "    for plb in pb:\n",
    "        if plb in cnum:\n",
    "            cnum[plb] += 1\n",
    "        else:\n",
    "            cnum[plb] = 1\n",
    "    po = sorted(cnum.items(), key=lambda x: x[1], reverse=True)\n",
    "\n",
    "    pmc = po[:n]\n",
    "    return pmc\n",
    "\n",
    "if __name__ == \"__main__\":\n",
    "    a = \"mbox.txt\"\n",
    "    pmb = mostwords(a, 50)\n",
    "    for p, f in pmb:\n",
    "        print(f\"{p}: {f}\")\n"
   ]
  },
  {
   "cell_type": "code",
   "execution_count": null,
   "metadata": {},
   "outputs": [],
   "source": []
  }
 ],
 "metadata": {
  "kernelspec": {
   "display_name": "Python 3",
   "language": "python",
   "name": "python3"
  },
  "language_info": {
   "codemirror_mode": {
    "name": "ipython",
    "version": 3
   },
   "file_extension": ".py",
   "mimetype": "text/x-python",
   "name": "python",
   "nbconvert_exporter": "python",
   "pygments_lexer": "ipython3",
   "version": "3.12.2"
  }
 },
 "nbformat": 4,
 "nbformat_minor": 2
}
